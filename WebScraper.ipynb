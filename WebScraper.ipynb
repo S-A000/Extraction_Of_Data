{
 "cells": [
  {
   "cell_type": "code",
   "execution_count": 15,
   "id": "4d55383c-6529-4031-adde-052dfb72841d",
   "metadata": {},
   "outputs": [],
   "source": [
    "from bs4 import BeautifulSoup\n",
    "import requests\n",
    "import pandas as pd\n",
    "import re"
   ]
  },
  {
   "cell_type": "code",
   "execution_count": 5,
   "id": "4b39bef8-a50e-4693-bea7-c1f36dd897ff",
   "metadata": {},
   "outputs": [],
   "source": [
    "url = \"https://webscraper.io/test-sites/e-commerce/allinone\""
   ]
  },
  {
   "cell_type": "code",
   "execution_count": 7,
   "id": "048f8678-a03f-452b-ac84-cddd9f4e36a9",
   "metadata": {},
   "outputs": [
    {
     "data": {
      "text/plain": [
       "<Response [200]>"
      ]
     },
     "execution_count": 7,
     "metadata": {},
     "output_type": "execute_result"
    }
   ],
   "source": [
    "page = requests.get(url)\n",
    "page"
   ]
  },
  {
   "cell_type": "code",
   "execution_count": 9,
   "id": "d912443f-941f-4a6e-b4ac-8769bb9cb21d",
   "metadata": {},
   "outputs": [
    {
     "data": {
      "text/plain": [
       "<!DOCTYPE html>\n",
       "<html lang=\"en\">\n",
       "<head>\n",
       "<!-- Google Tag Manager -->\n",
       "<script>(function (w, d, s, l, i) {\n",
       "\t\tw[l] = w[l] || [];\n",
       "\t\tw[l].push({\n",
       "\t\t\t'gtm.start':\n",
       "\t\t\t\tnew Date().getTime(), event: 'gtm.js'\n",
       "\t\t});\n",
       "\t\tvar f = d.getElementsByTagName(s)[0],\n",
       "\t\t\tj = d.createElement(s), dl = l != 'dataLayer' ? '&l=' + l : '';\n",
       "\t\tj.async = true;\n",
       "\t\tj.src =\n",
       "\t\t\t'https://www.googletagmanager.com/gtm.js?id=' + i + dl;\n",
       "\t\tf.parentNode.insertBefore(j, f);\n",
       "\t})(window, document, 'script', 'dataLayer', 'GTM-NVFPDWB');</script>\n",
       "<!-- End Google Tag Manager -->\n",
       "<title>Allinone | Web Scraper Test Sites</title>\n",
       "<meta charset=\"utf-8\"/>\n",
       "<meta content=\"IE=edge,chrome=1\" http-equiv=\"X-UA-Compatible\"/>\n",
       "<meta content=\"web scraping,Web Scraper,Chrome extension,Crawling,Cross platform scraper\" name=\"keywords\"/>\n",
       "<meta content=\"The most popular web scraping extension. Start scraping in minutes. Automate your tasks with our Cloud Scraper. No software to download, no coding needed.\" name=\"description\"/>\n",
       "<link href=\"/favicon.png\" rel=\"icon\" sizes=\"128x128\"/>\n",
       "<meta content=\"width=device-width, initial-scale=1.0\" name=\"viewport\"/>\n",
       "<link href=\"https://fonts.googleapis.com\" rel=\"preconnect\"/>\n",
       "<link crossorigin=\"\" href=\"https://fonts.gstatic.com\" rel=\"preconnect\"/>\n",
       "<link href=\"https://fonts.googleapis.com/css2?family=Roboto:wght@400;500;600&amp;display=swap\" rel=\"stylesheet\"/>\n",
       "<link href=\"https://fonts.googleapis.com/css2?family=Montserrat:wght@300;400;500;600;700;900&amp;display=swap\" rel=\"stylesheet\"/>\n",
       "<link href=\"/css/app.css?id=06223d32356bb9de144c6b2196deeb03\" rel=\"stylesheet\"/>\n",
       "<link href=\"/css/ws-icons.css?id=425669580a5e2af2a7133aa31b1b21d3\" rel=\"stylesheet\"/>\n",
       "<link href=\"https://webscraper.io/test-sites/e-commerce/allinone\" rel=\"canonical\"/>\n",
       "<link href=\"/img/logo-icon.png\" rel=\"apple-touch-icon\"/>\n",
       "<script defer=\"\" src=\"/js/vendor.js?id=9363fc11cfc46155b8ff22465a87f071\"></script>\n",
       "<script defer=\"\" src=\"/js/app.js?id=806927385eb5bc635d4e80efd78f7976\"></script>\n",
       "</head>\n",
       "<body>\n",
       "<!-- Google Tag Manager (noscript) -->\n",
       "<noscript>\n",
       "<iframe height=\"0\" src=\"https://www.googletagmanager.com/ns.html?id=GTM-NVFPDWB\" style=\"display:none;visibility:hidden\" width=\"0\"></iframe>\n",
       "</noscript>\n",
       "<!-- End Google Tag Manager (noscript) -->\n",
       "<header class=\"navbar fixed-top navbar-expand-lg navbar-dark navbar-static\" role=\"banner\">\n",
       "<div class=\"container\">\n",
       "<div class=\"navbar-header\">\n",
       "<a data-bs-target=\".side-collapse\" data-bs-target-2=\".side-collapse-container\" data-bs-toggle=\"collapse-side\">\n",
       "<button aria-controls=\"navbar\" aria-expanded=\"false\" class=\"navbar-toggler float-end collapsed\" data-bs-target=\"#navbar\" data-bs-target-2=\".side-collapse-container\" data-bs-target-3=\".side-collapse\" data-bs-toggle=\"collapse\" type=\"button\">\n",
       "<span class=\"visually-hidden\">Toggle navigation</span>\n",
       "<span class=\"icon-bar top-bar\"></span>\n",
       "<span class=\"icon-bar middle-bar\"></span>\n",
       "<span class=\"icon-bar bottom-bar\"></span>\n",
       "<span class=\"icon-bar extra-bottom-bar\"></span>\n",
       "</button>\n",
       "</a>\n",
       "<div class=\"navbar-brand\">\n",
       "<a href=\"/\"><img alt=\"Web Scraper\" src=\"/img/logo_white.svg\"/></a>\n",
       "</div>\n",
       "</div>\n",
       "<div class=\"side-collapse in\">\n",
       "<nav class=\"navbar-collapse collapse\" id=\"navbar\" role=\"navigation\">\n",
       "<ul class=\"nav navbar-nav navbar-right\">\n",
       "<li class=\"nav-item\">\n",
       "<a class=\"nav-link menuitm\" href=\"/\">\n",
       "<p>Web Scraper</p>\n",
       "<div class=\"crta\"></div>\n",
       "</a>\n",
       "</li>\n",
       "<li class=\"nav-item\">\n",
       "<a class=\"nav-link menuitm\" href=\"/cloud-scraper\">\n",
       "<p>Cloud Scraper</p>\n",
       "<div class=\"crta\"></div>\n",
       "</a>\n",
       "</li>\n",
       "<li class=\"nav-item\">\n",
       "<a class=\"nav-link menuitm\" href=\"/pricing\">\n",
       "<p>Pricing</p>\n",
       "<div class=\"crta\"></div>\n",
       "</a>\n",
       "</li>\n",
       "<li class=\"nav-item dropdown\">\n",
       "<a aria-expanded=\"false\" aria-haspopup=\"true\" class=\"menuitm nav-link dropdown-toggle\" data-bs-toggle=\"dropdown\" href=\"#\" id=\"dropdownMenuLink\" role=\"button\">\n",
       "<p>Learn</p>\n",
       "<div class=\"crta\"></div>\n",
       "</a>\n",
       "<ul aria-labelledby=\"dropdownMenuLink\" class=\"dropdown-menu\">\n",
       "<li>\n",
       "<a class=\"dropdown-item\" href=\"/documentation\">Documentation</a>\n",
       "</li>\n",
       "<li>\n",
       "<a class=\"dropdown-item\" href=\"/tutorials\">Video Tutorials</a>\n",
       "</li>\n",
       "<li>\n",
       "<a class=\"dropdown-item\" href=\"/how-to-videos\">How to</a>\n",
       "</li>\n",
       "<li>\n",
       "<a class=\"dropdown-item\" href=\"/test-sites\">Test Sites</a>\n",
       "</li>\n",
       "<li>\n",
       "<a class=\"dropdown-item\" href=\"https://forum.webscraper.io/\" rel=\"noopener\" target=\"_blank\">Forum</a>\n",
       "</li>\n",
       "</ul>\n",
       "</li>\n",
       "<li class=\"nav-item\">\n",
       "<a class=\"nav-link btn-menu1 install-extension\" href=\"https://chromewebstore.google.com/detail/web-scraper-free-web-scra/jnhgnonknehpejjnehehllkliplmbmhn?hl=en\" target=\"_blank\">Install</a>\n",
       "</li>\n",
       "<li class=\"nav-item\">\n",
       "<a class=\"nav-link btn-menu2\" href=\"https://cloud.webscraper.io/\">Cloud Login</a>\n",
       "</li>\n",
       "</ul>\n",
       "</nav>\n",
       "</div>\n",
       "</div>\n",
       "</header>\n",
       "<div class=\"wrapper\">\n",
       "<div class=\"formenu-here container-fluid\">\n",
       "</div>\n",
       "<div class=\"container-fluid blog-hero\">\n",
       "<div class=\"container\">\n",
       "<div class=\"row\">\n",
       "<div class=\"col-lg-12\">\n",
       "<h1>Test Sites</h1>\n",
       "</div>\n",
       "</div>\n",
       "</div>\n",
       "</div>\n",
       "<div class=\"container test-site\">\n",
       "<div class=\"row\">\n",
       "<div class=\"col-lg-3 sidebar\">\n",
       "<div class=\"navbar-light sidebar\" role=\"navigation\">\n",
       "<div class=\"sidebar-nav navbar-collapse\">\n",
       "<ul class=\"nav flex-column\" id=\"side-menu\">\n",
       "<li class=\"nav-item active\">\n",
       "<a class=\"nav-link\" href=\"/test-sites/e-commerce/allinone\">Home</a>\n",
       "</li>\n",
       "<li class=\"nav-item\">\n",
       "<a class=\"category-link nav-link\" href=\"/test-sites/e-commerce/allinone/computers\">\n",
       "\t\t\t\t\tComputers\n",
       "\t\t\t\t\t<i class=\"ws-icon ws-icon-right\"></i>\n",
       "</a>\n",
       "</li>\n",
       "<li class=\"nav-item\">\n",
       "<a class=\"category-link nav-link\" href=\"/test-sites/e-commerce/allinone/phones\">\n",
       "\t\t\t\t\tPhones\n",
       "\t\t\t\t\t<i class=\"ws-icon ws-icon-right\"></i>\n",
       "</a>\n",
       "</li>\n",
       "</ul>\n",
       "</div>\n",
       "</div>\n",
       "</div>\n",
       "<div class=\"col-lg-9\">\n",
       "<div class=\"jumbotron\">\n",
       "<h1>E-commerce training site</h1>\n",
       "<p class=\"lead\">\n",
       "\t\t\tWelcome to WebScraper e-commerce site. You can use this site for training\n",
       "\t\t\tto learn how to use the Web Scraper. Items listed here are not for sale.\n",
       "\t\t</p>\n",
       "</div>\n",
       "<h2>Top items being scraped right now</h2>\n",
       "<div class=\"row\">\n",
       "<div class=\"col-md-4 col-xl-4 col-lg-4\">\n",
       "<div class=\"card product-wrapper thumbnail\">\n",
       "<div class=\"card-body\">\n",
       "<img alt=\"item\" class=\"img-fluid card-img-top image img-responsive\" src=\"/images/test-sites/e-commerce/items/cart2.png\"/>\n",
       "<div class=\"caption\">\n",
       "<h4 class=\"float-end price card-title pull-right\">$497.17</h4>\n",
       "<h4>\n",
       "<a class=\"title\" href=\"/test-sites/e-commerce/allinone/product/92\" title=\"Dell Vostro 15 (3568) Red\">Dell Vostro 15...</a>\n",
       "</h4>\n",
       "<p class=\"description card-text\">Dell Vostro 15 (3568) Red, 15.6\" HD, Core i5-7200U, 4GB, 1TB, Radeon R5 M420 2GB, Linux</p>\n",
       "</div>\n",
       "<div class=\"ratings\">\n",
       "<p class=\"float-end review-count\">9 reviews</p>\n",
       "<p data-rating=\"1\">\n",
       "<span class=\"ws-icon ws-icon-star\"></span>\n",
       "</p>\n",
       "</div>\n",
       "</div>\n",
       "</div>\n",
       "</div>\n",
       "<div class=\"col-md-4 col-xl-4 col-lg-4\">\n",
       "<div class=\"card product-wrapper thumbnail\">\n",
       "<div class=\"card-body\">\n",
       "<img alt=\"item\" class=\"img-fluid card-img-top image img-responsive\" src=\"/images/test-sites/e-commerce/items/cart2.png\"/>\n",
       "<div class=\"caption\">\n",
       "<h4 class=\"float-end price card-title pull-right\">$1203.41</h4>\n",
       "<h4>\n",
       "<a class=\"title\" href=\"/test-sites/e-commerce/allinone/product/124\" title=\"Toshiba Portege X30-D-10J Black/Blue\">Toshiba Porteg...</a>\n",
       "</h4>\n",
       "<p class=\"description card-text\">Toshiba Portege X30-D-10J Black/Blue, 13.3\" FHD IPS, Core i5-7200U, 8GB, 256GB SSD, Windows 10 Pro</p>\n",
       "</div>\n",
       "<div class=\"ratings\">\n",
       "<p class=\"float-end review-count\">13 reviews</p>\n",
       "<p data-rating=\"4\">\n",
       "<span class=\"ws-icon ws-icon-star\"></span>\n",
       "<span class=\"ws-icon ws-icon-star\"></span>\n",
       "<span class=\"ws-icon ws-icon-star\"></span>\n",
       "<span class=\"ws-icon ws-icon-star\"></span>\n",
       "</p>\n",
       "</div>\n",
       "</div>\n",
       "</div>\n",
       "</div>\n",
       "<div class=\"col-md-4 col-xl-4 col-lg-4\">\n",
       "<div class=\"card product-wrapper thumbnail\">\n",
       "<div class=\"card-body\">\n",
       "<img alt=\"item\" class=\"img-fluid card-img-top image img-responsive\" src=\"/images/test-sites/e-commerce/items/cart2.png\"/>\n",
       "<div class=\"caption\">\n",
       "<h4 class=\"float-end price card-title pull-right\">$1294.74</h4>\n",
       "<h4>\n",
       "<a class=\"title\" href=\"/test-sites/e-commerce/allinone/product/134\" title=\"Toshiba Portege Z30-C-16K Grey\">Toshiba Porteg...</a>\n",
       "</h4>\n",
       "<p class=\"description card-text\">Toshiba Portege Z30-C-16K Grey, 13.3\" FHD, Core i5-6200U, 8GB, 256GB SSD, 4G, Windows 10 Pro</p>\n",
       "</div>\n",
       "<div class=\"ratings\">\n",
       "<p class=\"float-end review-count\">6 reviews</p>\n",
       "<p data-rating=\"1\">\n",
       "<span class=\"ws-icon ws-icon-star\"></span>\n",
       "</p>\n",
       "</div>\n",
       "</div>\n",
       "</div>\n",
       "</div>\n",
       "</div>\n",
       "<div id=\"static-pagination\">\n",
       "</div>\n",
       "</div>\n",
       "</div>\n",
       "</div>\n",
       "<div class=\"clearfix\"></div>\n",
       "<div class=\"push\"></div>\n",
       "</div>\n",
       "<div class=\"container-fluid footer\" id=\"layout-footer\">\n",
       "<div class=\"container\">\n",
       "<div class=\"row\">\n",
       "<div class=\"col-lg-3\">\n",
       "<ul>\n",
       "<li><p>Products</p></li>\n",
       "<li>\n",
       "<a href=\"/\">Web Scraper browser extension</a>\n",
       "</li>\n",
       "<li>\n",
       "<a href=\"/pricing\">Web Scraper Cloud</a>\n",
       "</li>\n",
       "</ul>\n",
       "</div>\n",
       "<div class=\"col-lg-3\">\n",
       "<ul>\n",
       "<li><p>Company</p></li>\n",
       "<li>\n",
       "<a href=\"/about-us\">About us</a>\n",
       "</li>\n",
       "<li>\n",
       "<a href=\"/contact\">Contact</a>\n",
       "</li>\n",
       "<li>\n",
       "<a href=\"/privacy-policy\">Website Privacy Policy</a>\n",
       "</li>\n",
       "<li>\n",
       "<a href=\"/extension-privacy-policy\">Browser Extension Privacy Policy</a>\n",
       "</li>\n",
       "<li>\n",
       "<a href=\"https://webscraper.io/downloads/Web_Scraper_Media_Kit.zip\">Media kit</a>\n",
       "</li>\n",
       "<li><a href=\"/jobs\">Jobs</a></li>\n",
       "</ul>\n",
       "</div>\n",
       "<div class=\"col-lg-3\">\n",
       "<ul>\n",
       "<li><p>Resources</p></li>\n",
       "<li><a href=\"/blog\">Blog</a></li>\n",
       "<li>\n",
       "<a href=\"/documentation\">Documentation</a>\n",
       "</li>\n",
       "<li>\n",
       "<a href=\"/tutorials\">Video Tutorials</a>\n",
       "</li>\n",
       "<li>\n",
       "<a href=\"/screenshots\">Screenshots</a>\n",
       "</li>\n",
       "<li>\n",
       "<a href=\"/test-sites\">Test Sites</a>\n",
       "</li>\n",
       "<li>\n",
       "<a href=\"https://forum.webscraper.io/\" rel=\"noopener\" target=\"_blank\">Forum</a>\n",
       "</li>\n",
       "<li>\n",
       "<a href=\"https://status.webscraper.io/\" rel=\"noopener\" target=\"_blank\">Status</a>\n",
       "</li>\n",
       "</ul>\n",
       "</div>\n",
       "<div class=\"col-lg-3\">\n",
       "<ul>\n",
       "<li><p>CONTACT US</p></li>\n",
       "<li>\n",
       "<a href=\"mailto:info@webscraper.io\">info@webscraper.io</a>\n",
       "</li>\n",
       "<li>Ubelu 5-71,<br/> Adazi, Latvia, LV-2164</li>\n",
       "</ul>\n",
       "<ul class=\"smedia\">\n",
       "<li>\n",
       "<a href=\"https://www.facebook.com/webscraperio/\" rel=\"noopener\" target=\"_blank\">\n",
       "<i class=\"ws-icon ws-icon-facebook-f\"></i>\n",
       "</a>\n",
       "</li>\n",
       "<li>\n",
       "<a href=\"https://twitter.com/webscraperio\" rel=\"noopener\" target=\"_blank\">\n",
       "<i class=\"ws-icon ws-icon-twitter\"></i>\n",
       "</a>\n",
       "</li>\n",
       "</ul>\n",
       "</div>\n",
       "</div>\n",
       "<div class=\"row\">\n",
       "<div class=\"col-lg-12\">\n",
       "<p class=\"copyright\">Copyright &amp;copy 2024\n",
       "\t\t\t\t\t<a href=\"#\">Web Scraper</a> | All rights\n",
       "\t\t\t\t\treserved</p>\n",
       "</div>\n",
       "</div>\n",
       "</div>\n",
       "</div>\n",
       "</body>\n",
       "</html>"
      ]
     },
     "execution_count": 9,
     "metadata": {},
     "output_type": "execute_result"
    }
   ],
   "source": [
    "soup = BeautifulSoup(page.text,\"lxml\")\n",
    "soup"
   ]
  },
  {
   "cell_type": "code",
   "execution_count": 16,
   "id": "dc76c582-a95c-4a3a-9d3f-2f434595b3d7",
   "metadata": {},
   "outputs": [
    {
     "data": {
      "text/plain": [
       "[<h4 class=\"float-end price card-title pull-right\">$497.17</h4>,\n",
       " <h4 class=\"float-end price card-title pull-right\">$1203.41</h4>,\n",
       " <h4 class=\"float-end price card-title pull-right\">$1294.74</h4>]"
      ]
     },
     "execution_count": 16,
     "metadata": {},
     "output_type": "execute_result"
    }
   ],
   "source": [
    "product_price = soup.find_all('h4',class_ = \"pull-right\")\n",
    "product_price"
   ]
  },
  {
   "cell_type": "code",
   "execution_count": 45,
   "id": "eb519f1f-8088-4702-b7e2-361222824ff5",
   "metadata": {},
   "outputs": [
    {
     "data": {
      "text/plain": [
       "[<a class=\"title\" href=\"/test-sites/e-commerce/allinone/product/92\" title=\"Dell Vostro 15 (3568) Red\">Dell Vostro 15...</a>,\n",
       " <a class=\"title\" href=\"/test-sites/e-commerce/allinone/product/124\" title=\"Toshiba Portege X30-D-10J Black/Blue\">Toshiba Porteg...</a>,\n",
       " <a class=\"title\" href=\"/test-sites/e-commerce/allinone/product/134\" title=\"Toshiba Portege Z30-C-16K Grey\">Toshiba Porteg...</a>]"
      ]
     },
     "execution_count": 45,
     "metadata": {},
     "output_type": "execute_result"
    }
   ],
   "source": [
    "product_name = soup.find_all('a',class_ = \"title\")\n",
    "product_name"
   ]
  },
  {
   "cell_type": "code",
   "execution_count": 46,
   "id": "3b0afd9a-c88e-451c-aa6f-3d0f7fd9159e",
   "metadata": {},
   "outputs": [],
   "source": [
    "product_name_list = product_name_list[:3]"
   ]
  },
  {
   "cell_type": "code",
   "execution_count": 21,
   "id": "2e38d080-3388-449e-b759-715effad85c2",
   "metadata": {},
   "outputs": [
    {
     "data": {
      "text/plain": [
       "[<p class=\"float-end review-count\">9 reviews</p>,\n",
       " <p class=\"float-end review-count\">13 reviews</p>,\n",
       " <p class=\"float-end review-count\">6 reviews</p>]"
      ]
     },
     "execution_count": 21,
     "metadata": {},
     "output_type": "execute_result"
    }
   ],
   "source": [
    "product_reviews = soup.find_all('p',class_ = 'review-count')\n",
    "product_reviews"
   ]
  },
  {
   "cell_type": "code",
   "execution_count": 22,
   "id": "2ba9d429-69a1-448e-b766-61e3a19b4ac6",
   "metadata": {},
   "outputs": [
    {
     "data": {
      "text/plain": [
       "[<p class=\"description card-text\">Dell Vostro 15 (3568) Red, 15.6\" HD, Core i5-7200U, 4GB, 1TB, Radeon R5 M420 2GB, Linux</p>,\n",
       " <p class=\"description card-text\">Toshiba Portege X30-D-10J Black/Blue, 13.3\" FHD IPS, Core i5-7200U, 8GB, 256GB SSD, Windows 10 Pro</p>,\n",
       " <p class=\"description card-text\">Toshiba Portege Z30-C-16K Grey, 13.3\" FHD, Core i5-6200U, 8GB, 256GB SSD, 4G, Windows 10 Pro</p>]"
      ]
     },
     "execution_count": 22,
     "metadata": {},
     "output_type": "execute_result"
    }
   ],
   "source": [
    "product_description = soup.find_all('p',class_ = 'card-text')\n",
    "product_description"
   ]
  },
  {
   "cell_type": "code",
   "execution_count": 43,
   "id": "006cb3cd-1b2d-4c96-86d3-81122a39fcdc",
   "metadata": {},
   "outputs": [
    {
     "data": {
      "text/plain": [
       "['Dell Vostro 15...', 'Toshiba Porteg...', 'Toshiba Porteg...']"
      ]
     },
     "execution_count": 43,
     "metadata": {},
     "output_type": "execute_result"
    }
   ],
   "source": [
    "product_name_list = []\n",
    "for i in product_name:\n",
    "    name= i.text\n",
    "    product_name_list.append(name)\n",
    "\n",
    "product_name_list\n"
   ]
  },
  {
   "cell_type": "code",
   "execution_count": 36,
   "id": "e6851eff-08b2-44ae-9ed9-f21bcf413d52",
   "metadata": {},
   "outputs": [
    {
     "data": {
      "text/plain": [
       "['$497.17', '$1203.41', '$1294.74']"
      ]
     },
     "execution_count": 36,
     "metadata": {},
     "output_type": "execute_result"
    }
   ],
   "source": [
    "product_price_list = []\n",
    "\n",
    "for i in product_price:\n",
    "    price = i.text\n",
    "    product_price_list.append(price)\n",
    "\n",
    "product_price_list\n",
    "\n"
   ]
  },
  {
   "cell_type": "code",
   "execution_count": 37,
   "id": "ee08a63d-fee5-4477-bc53-d135bd07e6fe",
   "metadata": {},
   "outputs": [
    {
     "data": {
      "text/plain": [
       "['9 reviews', '13 reviews', '6 reviews']"
      ]
     },
     "execution_count": 37,
     "metadata": {},
     "output_type": "execute_result"
    }
   ],
   "source": [
    "product_reviews_list = []\n",
    "\n",
    "for i in product_reviews:\n",
    "    reviews = i.text\n",
    "    product_reviews_list.append(reviews)\n",
    "product_reviews_list"
   ]
  },
  {
   "cell_type": "code",
   "execution_count": 38,
   "id": "86fdd533-e0a1-4713-9813-f4bd54ba7f09",
   "metadata": {
    "scrolled": true
   },
   "outputs": [
    {
     "data": {
      "text/plain": [
       "['Dell Vostro 15 (3568) Red, 15.6\" HD, Core i5-7200U, 4GB, 1TB, Radeon R5 M420 2GB, Linux',\n",
       " 'Toshiba Portege X30-D-10J Black/Blue, 13.3\" FHD IPS, Core i5-7200U, 8GB, 256GB SSD, Windows 10 Pro',\n",
       " 'Toshiba Portege Z30-C-16K Grey, 13.3\" FHD, Core i5-6200U, 8GB, 256GB SSD, 4G, Windows 10 Pro']"
      ]
     },
     "execution_count": 38,
     "metadata": {},
     "output_type": "execute_result"
    }
   ],
   "source": [
    "product_description_list = []\n",
    "\n",
    "for i in product_description:\n",
    "    description = i.text\n",
    "    product_description_list.append(description)\n",
    "product_description_list"
   ]
  },
  {
   "cell_type": "code",
   "execution_count": 47,
   "id": "9156ab2c-1d55-406f-a410-c7c2960233c6",
   "metadata": {},
   "outputs": [],
   "source": [
    "table = pd.DataFrame({'Product Name':product_name_list,'Product_Price':product_price_list,'Product_Reviews':product_reviews_list,'Product Description':product_description_list})"
   ]
  },
  {
   "cell_type": "code",
   "execution_count": 48,
   "id": "fd46d225-003a-4847-bf2c-93576bc86c87",
   "metadata": {},
   "outputs": [
    {
     "name": "stdout",
     "output_type": "stream",
     "text": [
      "Length of product_name_list: 3\n",
      "Length of product_price_list: 3\n",
      "Length of product_reviews_list: 3\n",
      "Length of product_description_list: 3\n"
     ]
    }
   ],
   "source": [
    "print(\"Length of product_name_list:\", len(product_name_list))\n",
    "print(\"Length of product_price_list:\", len(product_price_list))\n",
    "print(\"Length of product_reviews_list:\", len(product_reviews_list))\n",
    "print(\"Length of product_description_list:\", len(product_description_list))"
   ]
  },
  {
   "cell_type": "code",
   "execution_count": 49,
   "id": "2b301711-011e-46a3-afe2-898eb0b6fba9",
   "metadata": {},
   "outputs": [
    {
     "data": {
      "text/html": [
       "<div>\n",
       "<style scoped>\n",
       "    .dataframe tbody tr th:only-of-type {\n",
       "        vertical-align: middle;\n",
       "    }\n",
       "\n",
       "    .dataframe tbody tr th {\n",
       "        vertical-align: top;\n",
       "    }\n",
       "\n",
       "    .dataframe thead th {\n",
       "        text-align: right;\n",
       "    }\n",
       "</style>\n",
       "<table border=\"1\" class=\"dataframe\">\n",
       "  <thead>\n",
       "    <tr style=\"text-align: right;\">\n",
       "      <th></th>\n",
       "      <th>Product Name</th>\n",
       "      <th>Product_Price</th>\n",
       "      <th>Product_Reviews</th>\n",
       "      <th>Product Description</th>\n",
       "    </tr>\n",
       "  </thead>\n",
       "  <tbody>\n",
       "    <tr>\n",
       "      <th>0</th>\n",
       "      <td>Dell Vostro 15...</td>\n",
       "      <td>$497.17</td>\n",
       "      <td>9 reviews</td>\n",
       "      <td>Dell Vostro 15 (3568) Red, 15.6\" HD, Core i5-7...</td>\n",
       "    </tr>\n",
       "    <tr>\n",
       "      <th>1</th>\n",
       "      <td>Toshiba Porteg...</td>\n",
       "      <td>$1203.41</td>\n",
       "      <td>13 reviews</td>\n",
       "      <td>Toshiba Portege X30-D-10J Black/Blue, 13.3\" FH...</td>\n",
       "    </tr>\n",
       "    <tr>\n",
       "      <th>2</th>\n",
       "      <td>Toshiba Porteg...</td>\n",
       "      <td>$1294.74</td>\n",
       "      <td>6 reviews</td>\n",
       "      <td>Toshiba Portege Z30-C-16K Grey, 13.3\" FHD, Cor...</td>\n",
       "    </tr>\n",
       "  </tbody>\n",
       "</table>\n",
       "</div>"
      ],
      "text/plain": [
       "        Product Name Product_Price Product_Reviews  \\\n",
       "0  Dell Vostro 15...       $497.17       9 reviews   \n",
       "1  Toshiba Porteg...      $1203.41      13 reviews   \n",
       "2  Toshiba Porteg...      $1294.74       6 reviews   \n",
       "\n",
       "                                 Product Description  \n",
       "0  Dell Vostro 15 (3568) Red, 15.6\" HD, Core i5-7...  \n",
       "1  Toshiba Portege X30-D-10J Black/Blue, 13.3\" FH...  \n",
       "2  Toshiba Portege Z30-C-16K Grey, 13.3\" FHD, Cor...  "
      ]
     },
     "execution_count": 49,
     "metadata": {},
     "output_type": "execute_result"
    }
   ],
   "source": [
    "table"
   ]
  },
  {
   "cell_type": "code",
   "execution_count": 50,
   "id": "c5472ee8-7fff-402e-a25a-df32750b8b5a",
   "metadata": {},
   "outputs": [],
   "source": [
    "table.to_csv('products.csv',index=False)"
   ]
  },
  {
   "cell_type": "code",
   "execution_count": null,
   "id": "11e0a866-59e1-487f-b57e-3a9498466de4",
   "metadata": {},
   "outputs": [],
   "source": []
  }
 ],
 "metadata": {
  "kernelspec": {
   "display_name": "Python 3 (ipykernel)",
   "language": "python",
   "name": "python3"
  },
  "language_info": {
   "codemirror_mode": {
    "name": "ipython",
    "version": 3
   },
   "file_extension": ".py",
   "mimetype": "text/x-python",
   "name": "python",
   "nbconvert_exporter": "python",
   "pygments_lexer": "ipython3",
   "version": "3.9.7"
  }
 },
 "nbformat": 4,
 "nbformat_minor": 5
}
